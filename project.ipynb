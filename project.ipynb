{
 "cells": [
  {
   "cell_type": "markdown",
   "metadata": {},
   "source": [
    "# Songs Lyrics Sentimental Analysis"
   ]
  },
  {
   "cell_type": "code",
   "execution_count": 4,
   "metadata": {},
   "outputs": [],
   "source": [
    "import pandas as pd\n",
    "import numpy as np\n",
    "import matplotlib.pyplot as plt\n",
    "\n",
    "import string\n",
    "\n",
    "import nltk\n",
    "from nltk.tokenize import sent_tokenize\n",
    "from nltk.stem import WordNetLemmatizer\n",
    "from nltk.corpus import stopwords\n",
    "\n",
    "import textblob\n",
    "from textblob import TextBlob"
   ]
  },
  {
   "cell_type": "code",
   "execution_count": 5,
   "metadata": {},
   "outputs": [],
   "source": [
    "attr_lyrics_dataset_path = r'../archive/songs_with_attributes_and_lyrics.csv'\n",
    "# timestep_lyrics_dataset_path = r'archive/songs_with_lyrics_and_timestamps.csv'\n",
    "\n",
    "dataset1 = pd.read_csv(attr_lyrics_dataset_path)\n",
    "# dataset2 = pd.read_csv(timestep_lyrics_dataset_path)"
   ]
  },
  {
   "cell_type": "code",
   "execution_count": 6,
   "metadata": {},
   "outputs": [
    {
     "name": "stdout",
     "output_type": "stream",
     "text": [
      "<class 'pandas.core.frame.DataFrame'>\n",
      "RangeIndex: 955320 entries, 0 to 955319\n",
      "Data columns (total 17 columns):\n",
      " #   Column            Non-Null Count   Dtype  \n",
      "---  ------            --------------   -----  \n",
      " 0   id                955320 non-null  object \n",
      " 1   name              955309 non-null  object \n",
      " 2   album_name        385557 non-null  object \n",
      " 3   artists           955318 non-null  object \n",
      " 4   danceability      955320 non-null  float64\n",
      " 5   energy            955320 non-null  float64\n",
      " 6   key               955320 non-null  object \n",
      " 7   loudness          955320 non-null  float64\n",
      " 8   mode              955320 non-null  object \n",
      " 9   speechiness       955320 non-null  float64\n",
      " 10  acousticness      955320 non-null  float64\n",
      " 11  instrumentalness  955320 non-null  float64\n",
      " 12  liveness          955320 non-null  float64\n",
      " 13  valence           955320 non-null  float64\n",
      " 14  tempo             955320 non-null  float64\n",
      " 15  duration_ms       955320 non-null  float64\n",
      " 16  lyrics            955307 non-null  object \n",
      "dtypes: float64(10), object(7)\n",
      "memory usage: 123.9+ MB\n"
     ]
    }
   ],
   "source": [
    "dataset1.info()"
   ]
  },
  {
   "cell_type": "code",
   "execution_count": 7,
   "metadata": {},
   "outputs": [
    {
     "data": {
      "text/html": [
       "<div>\n",
       "<style scoped>\n",
       "    .dataframe tbody tr th:only-of-type {\n",
       "        vertical-align: middle;\n",
       "    }\n",
       "\n",
       "    .dataframe tbody tr th {\n",
       "        vertical-align: top;\n",
       "    }\n",
       "\n",
       "    .dataframe thead th {\n",
       "        text-align: right;\n",
       "    }\n",
       "</style>\n",
       "<table border=\"1\" class=\"dataframe\">\n",
       "  <thead>\n",
       "    <tr style=\"text-align: right;\">\n",
       "      <th></th>\n",
       "      <th>id</th>\n",
       "      <th>name</th>\n",
       "      <th>album_name</th>\n",
       "      <th>artists</th>\n",
       "      <th>danceability</th>\n",
       "      <th>energy</th>\n",
       "      <th>key</th>\n",
       "      <th>loudness</th>\n",
       "      <th>mode</th>\n",
       "      <th>speechiness</th>\n",
       "      <th>acousticness</th>\n",
       "      <th>instrumentalness</th>\n",
       "      <th>liveness</th>\n",
       "      <th>valence</th>\n",
       "      <th>tempo</th>\n",
       "      <th>duration_ms</th>\n",
       "      <th>lyrics</th>\n",
       "    </tr>\n",
       "  </thead>\n",
       "  <tbody>\n",
       "    <tr>\n",
       "      <th>0</th>\n",
       "      <td>0Prct5TDjAnEgIqbxcldY9</td>\n",
       "      <td>!</td>\n",
       "      <td>UNDEN!ABLE</td>\n",
       "      <td>['HELLYEAH']</td>\n",
       "      <td>0.415</td>\n",
       "      <td>0.6050</td>\n",
       "      <td>7</td>\n",
       "      <td>-11.157</td>\n",
       "      <td>1</td>\n",
       "      <td>0.0575</td>\n",
       "      <td>0.001160</td>\n",
       "      <td>0.838000</td>\n",
       "      <td>0.4710</td>\n",
       "      <td>0.193</td>\n",
       "      <td>100.059</td>\n",
       "      <td>79500.0</td>\n",
       "      <td>He said he came from Jamaica,\\n he owned a cou...</td>\n",
       "    </tr>\n",
       "    <tr>\n",
       "      <th>1</th>\n",
       "      <td>2ASl4wirkeYm3OWZxXKYuq</td>\n",
       "      <td>!!</td>\n",
       "      <td>NaN</td>\n",
       "      <td>Yxngxr1</td>\n",
       "      <td>0.788</td>\n",
       "      <td>0.6480</td>\n",
       "      <td>7</td>\n",
       "      <td>-9.135</td>\n",
       "      <td>0</td>\n",
       "      <td>0.3150</td>\n",
       "      <td>0.900000</td>\n",
       "      <td>0.000000</td>\n",
       "      <td>0.1760</td>\n",
       "      <td>0.287</td>\n",
       "      <td>79.998</td>\n",
       "      <td>114000.0</td>\n",
       "      <td>Fucked a bitch, now she running with my kids\\n...</td>\n",
       "    </tr>\n",
       "    <tr>\n",
       "      <th>2</th>\n",
       "      <td>69lcggVPmOr9cvPx9kLiiN</td>\n",
       "      <td>!!! - Interlude</td>\n",
       "      <td>Where I Belong EP</td>\n",
       "      <td>['Glowie']</td>\n",
       "      <td>0.000</td>\n",
       "      <td>0.0354</td>\n",
       "      <td>7</td>\n",
       "      <td>-20.151</td>\n",
       "      <td>0</td>\n",
       "      <td>0.0000</td>\n",
       "      <td>0.908000</td>\n",
       "      <td>0.000000</td>\n",
       "      <td>0.4790</td>\n",
       "      <td>0.000</td>\n",
       "      <td>0.000</td>\n",
       "      <td>11413.0</td>\n",
       "      <td>Oh, my God, I'm going crazy\\n</td>\n",
       "    </tr>\n",
       "    <tr>\n",
       "      <th>3</th>\n",
       "      <td>4U7dlZjg1s9pjdppqZy0fm</td>\n",
       "      <td>!!De Repente!!</td>\n",
       "      <td>Un Palo Al Agua (20 Grandes Canciones)</td>\n",
       "      <td>['Rosendo']</td>\n",
       "      <td>0.657</td>\n",
       "      <td>0.8820</td>\n",
       "      <td>5</td>\n",
       "      <td>-6.340</td>\n",
       "      <td>1</td>\n",
       "      <td>0.0385</td>\n",
       "      <td>0.007400</td>\n",
       "      <td>0.000013</td>\n",
       "      <td>0.0474</td>\n",
       "      <td>0.939</td>\n",
       "      <td>123.588</td>\n",
       "      <td>198173.0</td>\n",
       "      <td>Continuamente se extraña la gente si no puede ...</td>\n",
       "    </tr>\n",
       "    <tr>\n",
       "      <th>4</th>\n",
       "      <td>4v1IBp3Y3rpkWmWzIlkYju</td>\n",
       "      <td>!!De Repente!!</td>\n",
       "      <td>Fuera De Lugar</td>\n",
       "      <td>['Rosendo']</td>\n",
       "      <td>0.659</td>\n",
       "      <td>0.8930</td>\n",
       "      <td>5</td>\n",
       "      <td>-8.531</td>\n",
       "      <td>1</td>\n",
       "      <td>0.0411</td>\n",
       "      <td>0.092200</td>\n",
       "      <td>0.000019</td>\n",
       "      <td>0.0534</td>\n",
       "      <td>0.951</td>\n",
       "      <td>123.600</td>\n",
       "      <td>199827.0</td>\n",
       "      <td>Continuamente se extraña la gente si no puede ...</td>\n",
       "    </tr>\n",
       "    <tr>\n",
       "      <th>5</th>\n",
       "      <td>5tA3ImW310llKo8EMBj2Ga</td>\n",
       "      <td>!!Noble Stabbings!!</td>\n",
       "      <td>NaN</td>\n",
       "      <td>Dillinger Four</td>\n",
       "      <td>0.171</td>\n",
       "      <td>0.9570</td>\n",
       "      <td>2</td>\n",
       "      <td>-5.749</td>\n",
       "      <td>1</td>\n",
       "      <td>0.1490</td>\n",
       "      <td>0.000029</td>\n",
       "      <td>0.000032</td>\n",
       "      <td>0.3300</td>\n",
       "      <td>0.349</td>\n",
       "      <td>175.317</td>\n",
       "      <td>197400.0</td>\n",
       "      <td>You like to stand on the other side\\n Point an...</td>\n",
       "    </tr>\n",
       "    <tr>\n",
       "      <th>6</th>\n",
       "      <td>0fROT4kK5oTm8xO8PX6EJF</td>\n",
       "      <td>!I'll Be Back!</td>\n",
       "      <td>!I'll Be Back!</td>\n",
       "      <td>Rilès</td>\n",
       "      <td>0.823</td>\n",
       "      <td>0.6120</td>\n",
       "      <td>1</td>\n",
       "      <td>-7.767</td>\n",
       "      <td>1</td>\n",
       "      <td>0.2480</td>\n",
       "      <td>0.168000</td>\n",
       "      <td>0.000000</td>\n",
       "      <td>0.1090</td>\n",
       "      <td>0.688</td>\n",
       "      <td>142.959</td>\n",
       "      <td>178533.0</td>\n",
       "      <td>It's been a while, shit I missed the rehab, ps...</td>\n",
       "    </tr>\n",
       "    <tr>\n",
       "      <th>7</th>\n",
       "      <td>1xBFhv5faebv3mmwxx7DnS</td>\n",
       "      <td>!Lost!</td>\n",
       "      <td>NaN</td>\n",
       "      <td>Rilès</td>\n",
       "      <td>0.729</td>\n",
       "      <td>0.5520</td>\n",
       "      <td>7</td>\n",
       "      <td>-8.562</td>\n",
       "      <td>0</td>\n",
       "      <td>0.0650</td>\n",
       "      <td>0.183000</td>\n",
       "      <td>0.000000</td>\n",
       "      <td>0.1310</td>\n",
       "      <td>0.380</td>\n",
       "      <td>86.103</td>\n",
       "      <td>186197.0</td>\n",
       "      <td>I would like to give you all my time\\n I would...</td>\n",
       "    </tr>\n",
       "    <tr>\n",
       "      <th>8</th>\n",
       "      <td>0gNNToCW3qjabgTyBSjt3H</td>\n",
       "      <td>!Que Vida! - Mono Version</td>\n",
       "      <td>NaN</td>\n",
       "      <td>['Love']</td>\n",
       "      <td>0.600</td>\n",
       "      <td>0.5400</td>\n",
       "      <td>9</td>\n",
       "      <td>-11.803</td>\n",
       "      <td>1</td>\n",
       "      <td>0.0328</td>\n",
       "      <td>0.525000</td>\n",
       "      <td>0.003050</td>\n",
       "      <td>0.1000</td>\n",
       "      <td>0.547</td>\n",
       "      <td>125.898</td>\n",
       "      <td>220560.0</td>\n",
       "      <td>With pictures and words\\n Is this communicatin...</td>\n",
       "    </tr>\n",
       "    <tr>\n",
       "      <th>9</th>\n",
       "      <td>6LrefSCg9Vnn1ckCeJkmbA</td>\n",
       "      <td>!Viva el Mal Viva el Capital!</td>\n",
       "      <td>NaN</td>\n",
       "      <td>Elektroduendes</td>\n",
       "      <td>0.530</td>\n",
       "      <td>0.9150</td>\n",
       "      <td>0</td>\n",
       "      <td>-7.502</td>\n",
       "      <td>1</td>\n",
       "      <td>0.0370</td>\n",
       "      <td>0.003180</td>\n",
       "      <td>0.000007</td>\n",
       "      <td>0.5930</td>\n",
       "      <td>0.819</td>\n",
       "      <td>120.179</td>\n",
       "      <td>121170.0</td>\n",
       "      <td>Seré corta y clarividente, como el cerebro del...</td>\n",
       "    </tr>\n",
       "  </tbody>\n",
       "</table>\n",
       "</div>"
      ],
      "text/plain": [
       "                       id  ...                                             lyrics\n",
       "0  0Prct5TDjAnEgIqbxcldY9  ...  He said he came from Jamaica,\\n he owned a cou...\n",
       "1  2ASl4wirkeYm3OWZxXKYuq  ...  Fucked a bitch, now she running with my kids\\n...\n",
       "2  69lcggVPmOr9cvPx9kLiiN  ...                     Oh, my God, I'm going crazy\\n \n",
       "3  4U7dlZjg1s9pjdppqZy0fm  ...  Continuamente se extraña la gente si no puede ...\n",
       "4  4v1IBp3Y3rpkWmWzIlkYju  ...  Continuamente se extraña la gente si no puede ...\n",
       "5  5tA3ImW310llKo8EMBj2Ga  ...  You like to stand on the other side\\n Point an...\n",
       "6  0fROT4kK5oTm8xO8PX6EJF  ...  It's been a while, shit I missed the rehab, ps...\n",
       "7  1xBFhv5faebv3mmwxx7DnS  ...  I would like to give you all my time\\n I would...\n",
       "8  0gNNToCW3qjabgTyBSjt3H  ...  With pictures and words\\n Is this communicatin...\n",
       "9  6LrefSCg9Vnn1ckCeJkmbA  ...  Seré corta y clarividente, como el cerebro del...\n",
       "\n",
       "[10 rows x 17 columns]"
      ]
     },
     "execution_count": 7,
     "metadata": {},
     "output_type": "execute_result"
    }
   ],
   "source": [
    "dataset1.head(10)"
   ]
  },
  {
   "cell_type": "code",
   "execution_count": 8,
   "metadata": {},
   "outputs": [
    {
     "data": {
      "text/plain": [
       "id                       0\n",
       "name                    11\n",
       "album_name          569763\n",
       "artists                  2\n",
       "danceability             0\n",
       "energy                   0\n",
       "key                      0\n",
       "loudness                 0\n",
       "mode                     0\n",
       "speechiness              0\n",
       "acousticness             0\n",
       "instrumentalness         0\n",
       "liveness                 0\n",
       "valence                  0\n",
       "tempo                    0\n",
       "duration_ms              0\n",
       "lyrics                  13\n",
       "dtype: int64"
      ]
     },
     "execution_count": 8,
     "metadata": {},
     "output_type": "execute_result"
    }
   ],
   "source": [
    "dataset1.isna().sum()"
   ]
  },
  {
   "cell_type": "code",
   "execution_count": 9,
   "metadata": {},
   "outputs": [],
   "source": [
    "dataset1 = dataset1.dropna(subset=['name','lyrics'])"
   ]
  },
  {
   "cell_type": "code",
   "execution_count": 10,
   "metadata": {},
   "outputs": [
    {
     "data": {
      "text/plain": [
       "id                       0\n",
       "name                     0\n",
       "album_name          569744\n",
       "artists                  0\n",
       "danceability             0\n",
       "energy                   0\n",
       "key                      0\n",
       "loudness                 0\n",
       "mode                     0\n",
       "speechiness              0\n",
       "acousticness             0\n",
       "instrumentalness         0\n",
       "liveness                 0\n",
       "valence                  0\n",
       "tempo                    0\n",
       "duration_ms              0\n",
       "lyrics                   0\n",
       "dtype: int64"
      ]
     },
     "execution_count": 10,
     "metadata": {},
     "output_type": "execute_result"
    }
   ],
   "source": [
    "dataset1.isna().sum()"
   ]
  },
  {
   "cell_type": "code",
   "execution_count": 11,
   "metadata": {},
   "outputs": [
    {
     "data": {
      "text/plain": [
       "artists\n",
       "['Various Artists']                                                                                                                                                                                                                                                                 4476\n",
       "Grateful Dead                                                                                                                                                                                                                                                                       1308\n",
       "['Aretha Franklin']                                                                                                                                                                                                                                                                 1067\n",
       "['Bob Dylan']                                                                                                                                                                                                                                                                        984\n",
       "['Elvis Presley']                                                                                                                                                                                                                                                                    826\n",
       "                                                                                                                                                                                                                                                                                    ... \n",
       "['Gabrielle Shonk']                                                                                                                                                                                                                                                                    1\n",
       "['Big Pun', 'Ashanti']                                                                                                                                                                                                                                                                 1\n",
       "['Disciple', 'SampliFire', 'Modestep', 'Eliminate', 'Barely Alive', '12th Planet', 'Oliverse', 'Virtual Riot', 'Bandlez', 'Dirtyphonics', 'Graphyt', 'Ecraze', 'PhaseOne', 'Infekt', 'Chibs', 'MVRDA', 'Dodge & Fuski', 'Myro', 'Terravita', 'Fox Stevenson', 'Virus Syndicate']       1\n",
       "['YoungBoy Never Broke Again', 'Extendo']                                                                                                                                                                                                                                              1\n",
       "Chris Tomlin;Florida Georgia Line                                                                                                                                                                                                                                                      1\n",
       "Name: count, Length: 145098, dtype: int64"
      ]
     },
     "execution_count": 11,
     "metadata": {},
     "output_type": "execute_result"
    }
   ],
   "source": [
    "dataset1['artists'].value_counts()"
   ]
  },
  {
   "cell_type": "code",
   "execution_count": 12,
   "metadata": {},
   "outputs": [
    {
     "data": {
      "text/plain": [
       "artists\n",
       "['Various Artists']                                                                                                                                                                                                                                                                 4476\n",
       "Grateful Dead                                                                                                                                                                                                                                                                       1308\n",
       "['Aretha Franklin']                                                                                                                                                                                                                                                                 1067\n",
       "['Bob Dylan']                                                                                                                                                                                                                                                                        984\n",
       "['Elvis Presley']                                                                                                                                                                                                                                                                    826\n",
       "                                                                                                                                                                                                                                                                                    ... \n",
       "['Gabrielle Shonk']                                                                                                                                                                                                                                                                    1\n",
       "['Big Pun', 'Ashanti']                                                                                                                                                                                                                                                                 1\n",
       "['Disciple', 'SampliFire', 'Modestep', 'Eliminate', 'Barely Alive', '12th Planet', 'Oliverse', 'Virtual Riot', 'Bandlez', 'Dirtyphonics', 'Graphyt', 'Ecraze', 'PhaseOne', 'Infekt', 'Chibs', 'MVRDA', 'Dodge & Fuski', 'Myro', 'Terravita', 'Fox Stevenson', 'Virus Syndicate']       1\n",
       "['YoungBoy Never Broke Again', 'Extendo']                                                                                                                                                                                                                                              1\n",
       "Chris Tomlin;Florida Georgia Line                                                                                                                                                                                                                                                      1\n",
       "Name: count, Length: 145098, dtype: int64"
      ]
     },
     "execution_count": 12,
     "metadata": {},
     "output_type": "execute_result"
    }
   ],
   "source": [
    "dataset1['artists'].value_counts()"
   ]
  },
  {
   "cell_type": "code",
   "execution_count": 13,
   "metadata": {},
   "outputs": [
    {
     "data": {
      "text/plain": [
       "0         He said he came from Jamaica,\\n he owned a cou...\n",
       "1         Fucked a bitch, now she running with my kids\\n...\n",
       "2                            Oh, my God, I'm going crazy\\n \n",
       "3         Continuamente se extraña la gente si no puede ...\n",
       "4         Continuamente se extraña la gente si no puede ...\n",
       "                                ...                        \n",
       "955306    Mickey Remedy\\n In a cloudless harmony\\n Stay ...\n",
       "955307    Looking for it over land and sea\\n My heart ra...\n",
       "955308    Raindrop races on the train window\\n Wondering...\n",
       "955309    I thought I was free\\n But then the tears bega...\n",
       "955310    When days are short and nights are long\\n I fe...\n",
       "Name: lyrics, Length: 955296, dtype: object"
      ]
     },
     "execution_count": 13,
     "metadata": {},
     "output_type": "execute_result"
    }
   ],
   "source": [
    "dataset1['lyrics']"
   ]
  },
  {
   "cell_type": "code",
   "execution_count": 18,
   "metadata": {},
   "outputs": [],
   "source": [
    "# preprocessing the lyrics\n",
    "# lower the string\n",
    "# tokenise the words\n",
    "# remove punctuations\n",
    "# remove stopwords\n",
    "# stem the words\n",
    "\n",
    "lyrics_corpus = []\n",
    "\n",
    "lemmatiser = WordNetLemmatizer()\n",
    "\n",
    "translator = str.maketrans('','',string.punctuation)\n",
    "\n",
    "def preprocess(lyrics):\n",
    "    lyrics = lyrics.lower()\n",
    "    # remove punctuations using translation table\n",
    "    clean_lyrics = lyrics.translate(translator)\n",
    "    tokenised_words = sent_tokenize(clean_lyrics)\n",
    "    filtered_words = [word for word in tokenised_words if word not in stopwords.words('english')]\n",
    "    stemmed_words = [lemmatiser.lemmatize(word) for word in filtered_words]\n",
    "    lyrics = ' '.join(stemmed_words)\n",
    "    return lyrics\n",
    "\n",
    "for row in dataset1['lyrics']:\n",
    "    new_row = preprocess(row)\n",
    "    lyrics_corpus.append(new_row)"
   ]
  },
  {
   "cell_type": "code",
   "execution_count": 20,
   "metadata": {},
   "outputs": [],
   "source": [
    "dataset1['cleaned_lyrics'] = lyrics_corpus"
   ]
  },
  {
   "cell_type": "code",
   "execution_count": 21,
   "metadata": {},
   "outputs": [],
   "source": [
    "polarity_score = []\n",
    "subjectivity_score = []\n",
    "for lyrics in lyrics_corpus:\n",
    "    blob = TextBlob(lyrics)\n",
    "    polarity = blob.sentiment.polarity\n",
    "    subjectivity = blob.sentiment.subjectivity\n",
    "    polarity_score.append(polarity)\n",
    "    subjectivity_score.append(subjectivity)"
   ]
  },
  {
   "cell_type": "code",
   "execution_count": 23,
   "metadata": {},
   "outputs": [],
   "source": [
    "dataset1['polarity_score'] = polarity_score\n",
    "dataset1['subjectivity_score'] = subjectivity_score"
   ]
  },
  {
   "cell_type": "code",
   "execution_count": 25,
   "metadata": {},
   "outputs": [],
   "source": [
    "dataset1.to_csv('../archive/modified_dataset.csv')"
   ]
  }
 ],
 "metadata": {
  "kernelspec": {
   "display_name": "nlp-projects",
   "language": "python",
   "name": "python3"
  },
  "language_info": {
   "codemirror_mode": {
    "name": "ipython",
    "version": 3
   },
   "file_extension": ".py",
   "mimetype": "text/x-python",
   "name": "python",
   "nbconvert_exporter": "python",
   "pygments_lexer": "ipython3",
   "version": "3.10.13"
  }
 },
 "nbformat": 4,
 "nbformat_minor": 2
}
